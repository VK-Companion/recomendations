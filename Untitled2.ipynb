{
 "cells": [
  {
   "cell_type": "code",
   "execution_count": null,
   "metadata": {},
   "outputs": [],
   "source": [
    "facs = []\n",
    "\n",
    "with open('facs.txt') as f:\n",
    "    for line in f:\n",
    "        if line != '':\n",
    "            facs.append(line)"
   ]
  },
  {
   "cell_type": "code",
   "execution_count": null,
   "metadata": {},
   "outputs": [],
   "source": [
    "facs"
   ]
  },
  {
   "cell_type": "code",
   "execution_count": 2,
   "metadata": {},
   "outputs": [],
   "source": [
    "from recomendations.vectorizing.faculty_name import create_faculty_name_vectorizers, faculty_name_vector"
   ]
  },
  {
   "cell_type": "code",
   "execution_count": null,
   "metadata": {},
   "outputs": [],
   "source": [
    "count_vectorizer, pca_vectorizer = create_faculty_name_vectorizers(facs)"
   ]
  },
  {
   "cell_type": "code",
   "execution_count": 1,
   "metadata": {},
   "outputs": [],
   "source": [
    "import pickle"
   ]
  },
  {
   "cell_type": "code",
   "execution_count": null,
   "metadata": {},
   "outputs": [],
   "source": [
    "!mkdir -p resources/faculty_name_vectorizers"
   ]
  },
  {
   "cell_type": "code",
   "execution_count": null,
   "metadata": {},
   "outputs": [],
   "source": [
    "with open('resources/faculty_name_vectorizers/count_vectorizer.pkl', mode='wb') as f:\n",
    "    pickle.dump(count_vectorizer, f)"
   ]
  },
  {
   "cell_type": "code",
   "execution_count": null,
   "metadata": {},
   "outputs": [],
   "source": [
    "with open('resources/faculty_name_vectorizers/pca_vectorizer.pkl', mode='wb') as f:\n",
    "    pickle.dump(pca_vectorizer, f)"
   ]
  },
  {
   "cell_type": "code",
   "execution_count": null,
   "metadata": {},
   "outputs": [],
   "source": []
  },
  {
   "cell_type": "code",
   "execution_count": null,
   "metadata": {},
   "outputs": [],
   "source": [
    "faculty_name_vector?"
   ]
  },
  {
   "cell_type": "code",
   "execution_count": 3,
   "metadata": {},
   "outputs": [
    {
     "data": {
      "text/plain": [
       "array([[-0.09149356, -0.0592303 , -0.04082926, -0.02699715, -0.04510835,\n",
       "        -0.033116  , -0.03659289, -0.04981144, -0.00845391,  0.01509524,\n",
       "         0.00722282, -0.03944828,  0.01198673, -0.05979246,  0.01917578,\n",
       "        -0.02732028,  0.00211426, -0.00180198, -0.00031812,  0.00642116,\n",
       "        -0.03535976, -0.01114974,  0.04807262, -0.05556596,  0.00415017,\n",
       "        -0.04620809, -0.00893231, -0.01374674,  0.01832503, -0.04924352,\n",
       "         0.01439424,  0.01226228, -0.04667499, -0.01612124, -0.0178466 ,\n",
       "         0.01200784, -0.03058051, -0.07761031, -0.07469637,  0.01398388,\n",
       "         0.02177704,  0.01756682, -0.04502496,  0.00039789,  0.06481327,\n",
       "        -0.00166428, -0.1231139 , -0.06759503,  0.00520466, -0.04607837]])"
      ]
     },
     "execution_count": 3,
     "metadata": {},
     "output_type": "execute_result"
    }
   ],
   "source": [
    "faculty_name_vector('МГТУ им. Н. Э. Баумана', 'Факультет энергомашиностроения', \n",
    "                    pickle.load(open('resources/faculty_name_vectorizers/count_vectorizer.pkl', mode='rb')), \n",
    "                    pickle.load(open('resources/faculty_name_vectorizers/pca_vectorizer.pkl', mode='rb')))"
   ]
  },
  {
   "cell_type": "code",
   "execution_count": null,
   "metadata": {},
   "outputs": [],
   "source": []
  }
 ],
 "metadata": {
  "kernelspec": {
   "display_name": "Python 3",
   "language": "python",
   "name": "python3"
  },
  "language_info": {
   "codemirror_mode": {
    "name": "ipython",
    "version": 3
   },
   "file_extension": ".py",
   "mimetype": "text/x-python",
   "name": "python",
   "nbconvert_exporter": "python",
   "pygments_lexer": "ipython3",
   "version": "3.5.2"
  }
 },
 "nbformat": 4,
 "nbformat_minor": 2
}
